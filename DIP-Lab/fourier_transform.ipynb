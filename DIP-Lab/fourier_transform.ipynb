{
 "cells": [
  {
   "cell_type": "code",
   "execution_count": 1,
   "metadata": {},
   "outputs": [],
   "source": [
    "import cv2\n",
    "import numpy as np\n",
    "# from matplotlib import pyplot as plt\n",
    "\n",
    "# Read input image\n",
    "img = cv2.imread('img.jpeg', 0)\n",
    "\n",
    "# Get image size\n",
    "m, n = img.shape\n",
    "\n",
    "# Initialize Fourier Transform matrix\n",
    "ft = np.zeros((m, n), dtype=complex)\n",
    "\n",
    "# Compute Fourier Transform\n",
    "for u in range(m):\n",
    "    for v in range(n):\n",
    "        for x in range(m):\n",
    "            for y in range(n):\n",
    "                ft[u,v] += img[x,y]*np.exp(-1j*2*np.pi*((u*x/m) + (v*y/n)))\n",
    "\n",
    "# Shift the zero-frequency component to the center of the spectrum\n",
    "ft_shift = np.fft.fftshift(ft)\n",
    "\n",
    "# Compute the magnitude spectrum of the Fourier Transform\n",
    "mag_spec = 20*np.log(np.abs(ft_shift))\n",
    "\n",
    "# Display the magnitude spectrum\n",
    "cv2.imshow(ft_shift)\n"
   ]
  }
 ],
 "metadata": {
  "kernelspec": {
   "display_name": "DIP-Lab",
   "language": "python",
   "name": "python3"
  },
  "language_info": {
   "codemirror_mode": {
    "name": "ipython",
    "version": 3
   },
   "file_extension": ".py",
   "mimetype": "text/x-python",
   "name": "python",
   "nbconvert_exporter": "python",
   "pygments_lexer": "ipython3",
   "version": "3.10.6"
  },
  "orig_nbformat": 4,
  "vscode": {
   "interpreter": {
    "hash": "98470d652db34f905617caa18301bd84c50e174657a3a077bdcbd0c1e1b8ed94"
   }
  }
 },
 "nbformat": 4,
 "nbformat_minor": 2
}
