{
 "cells": [
  {
   "cell_type": "code",
   "execution_count": 12,
   "metadata": {},
   "outputs": [],
   "source": [
    "import cv2\n",
    "import numpy as np\n",
    "from matplotlib import pyplot as plt\n",
    "\n",
    "def apply_average_filter(image, kernel_size):\n",
    "    \"\"\"\n",
    "    Applies average filtering (mean filtering) to a grayscale image.\n",
    "\n",
    "    Parameters:\n",
    "    - image: a grayscale image as a NumPy array\n",
    "    - kernel_size: the size of the square kernel to use for filtering\n",
    "\n",
    "    Returns:\n",
    "    - the filtered image as a NumPy array\n",
    "    \"\"\"\n",
    "    # Define the kernel as a square matrix of ones with the given size\n",
    "    kernel = np.ones((kernel_size, kernel_size), dtype=np.float32) / (kernel_size * kernel_size)\n",
    "\n",
    "    # Apply the filter using OpenCV's filter2D function\n",
    "    filtered_image = cv2.filter2D(image, -1, kernel)\n",
    "\n",
    "    return filtered_image\n"
   ]
  },
  {
   "cell_type": "code",
   "execution_count": null,
   "metadata": {},
   "outputs": [],
   "source": [
    "# Load the image as grayscale\n",
    "image = cv2.imread('img.jpeg', cv2.IMREAD_GRAYSCALE)\n",
    "\n",
    "# Apply average filtering with a kernel size of 5\n",
    "filtered_image = apply_average_filter(image, 5)\n",
    "\n",
    "plt.imshow(image)\n",
    "# Display the filtered image\n",
    "plt.imshow('Filtered Image', filtered_image)\n",
    "\n"
   ]
  }
 ],
 "metadata": {
  "kernelspec": {
   "display_name": "DIP-Lab",
   "language": "python",
   "name": "python3"
  },
  "language_info": {
   "codemirror_mode": {
    "name": "ipython",
    "version": 3
   },
   "file_extension": ".py",
   "mimetype": "text/x-python",
   "name": "python",
   "nbconvert_exporter": "python",
   "pygments_lexer": "ipython3",
   "version": "3.10.6"
  },
  "orig_nbformat": 4,
  "vscode": {
   "interpreter": {
    "hash": "98470d652db34f905617caa18301bd84c50e174657a3a077bdcbd0c1e1b8ed94"
   }
  }
 },
 "nbformat": 4,
 "nbformat_minor": 2
}
